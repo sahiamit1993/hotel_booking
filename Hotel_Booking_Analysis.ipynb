{
  "nbformat": 4,
  "nbformat_minor": 0,
  "metadata": {
    "colab": {
      "private_outputs": true,
      "provenance": [],
      "collapsed_sections": [
        "gIfDvo9L0UH2"
      ],
      "include_colab_link": true
    },
    "kernelspec": {
      "name": "python3",
      "display_name": "Python 3"
    },
    "language_info": {
      "name": "python"
    }
  },
  "cells": [
    {
      "cell_type": "markdown",
      "metadata": {
        "id": "view-in-github",
        "colab_type": "text"
      },
      "source": [
        "<a href=\"https://colab.research.google.com/github/sahiamit1993/hotel_booking/blob/main/Hotel_Booking_Analysis.ipynb\" target=\"_parent\"><img src=\"https://colab.research.google.com/assets/colab-badge.svg\" alt=\"Open In Colab\"/></a>"
      ]
    },
    {
      "cell_type": "markdown",
      "source": [
        "# **Project Name**    -\n",
        "\n",
        "**Hotel_Booking_Analysis**"
      ],
      "metadata": {
        "id": "vncDsAP0Gaoa"
      }
    },
    {
      "cell_type": "markdown",
      "source": [
        "##### **Project Type**    - EDA/Regression/classification/Unsupervised\n",
        "##### **Contribution**    - Individual\n",
        "##### **Member -**AMIT KUMAR\n"
      ],
      "metadata": {
        "id": "beRrZCGUAJYm"
      }
    },
    {
      "cell_type": "markdown",
      "source": [
        "# **Project Summary -**"
      ],
      "metadata": {
        "id": "FJNUwmbgGyua"
      }
    },
    {
      "cell_type": "markdown",
      "source": [
        "Objective: The analysis aims to gain insights into the booking patterns, trends, and seasonality. It helps identify peak booking periods, booking lead times, and booking spikes. This information can be used for capacity planning, revenue optimization, and resource allocation. Analyzing hotel bookings can provide insights into revenue management strategies. This involves understanding pricing dynamics, optimizing room rates based on demand, and identifying opportunities to maximize revenue through tactics like upselling or offering package deals.\n",
        "\n",
        "The Project is related to Hotel Booking and It Consists Of Two Kinds Of Hotel First City Hotel and Other Resort Hotel. We Are Given a Dataset to Understand and Analyze Data from Dataset Get a Proper Output from That Data. In This Dataset, It Contain a Total Of 119390 Rows And 32 Columns.\n",
        "\n",
        "We Divide Data Manipulation in Three Category Data Collection, Data Cleaning and Manipulation and EDA(explanatory Data Analysis).\n",
        "\n",
        "Data Collection: Find Different Columns Which is done by Coding head(), tail(), info(), describe(), columns() also other methods are used for Data Collection. Identify the key variables such as hotel type, booking dates, customer demographics, room types, prices, etc. Some of the columns name is updated here i.e.hotel,is_canceled,lead_time,arival_date_year, arival_date_month, arival_date_date, arival_date_day, arival_date_number,stays_in_weekend_nights and other columns. Calculate basic statistics such as mean, median, mode, standard deviation, and range for numerical variables like prices or booking durations. For categorical variables like hotel type or room type, determine the frequency distribution of different categories.\n",
        "\n",
        "Data Cleaning: As we further, we find unique vales of each columns and generate a list in tabular form also check the dataset type of each columns find some columns not in accurate data types which correct it later done in data cleaning part and as well as duplicate data items must be removed we will remove duplicate dataset later. when we find missing value we will use fillna().Before visualize any data from the data set we have to do data wrangling that, we are checked the null value of all the column.\n",
        "\n",
        "EDA: This consists of explanatory data analysis where we deal with problem statement and try to find the solution of problem statement and visualize the data in graphical format to get to the actual understanding of problem. to understand booking patterns we must use visualization tools like matplotlib and seaborn. Plot the number of bookings over time to observe any seasonal trends or booking spikes. create bar charts or pie charts to visualize the distribution of bookings by hotel type, room type, or customer segments. Determine the cancellation rate by analyzing the number of canceled bookings compared to the total bookings. Investigate the reasons for cancellations, such as booking lead time, customer demographics, or room availability. We can Explore the demographics of the customers who made bookings. Also Create visualizations or summary statistics to understand the distribution of customers by age, gender, nationality, or any other relevant demographic variables. We can create a relationship between prices and booking patterns. Also the average prices by hotel type, room type, or booking period. Identify any pricing strategies or trends that might affect booking behavior. We can perform further analysis such as customer segmentation, revenue analysis, or predictive modeling to forecast future bookings.\n",
        "\n",
        "\n",
        "\n",
        "\n",
        "\n"
      ],
      "metadata": {
        "id": "F6v_1wHtG2nS"
      }
    },
    {
      "cell_type": "markdown",
      "source": [
        "# **GitHub Link -**"
      ],
      "metadata": {
        "id": "w6K7xa23Elo4"
      }
    },
    {
      "cell_type": "markdown",
      "source": [
        "https://github.com/sahiamit1993/hotel_booking/blob/2467bb634afab489e715abdb69d5fa70fef06383/Hotel_Booking_Analysis%20(1).ipynb"
      ],
      "metadata": {
        "id": "h1o69JH3Eqqn"
      }
    },
    {
      "cell_type": "markdown",
      "source": [
        "# **Problem Statement**\n"
      ],
      "metadata": {
        "id": "yQaldy8SH6Dl"
      }
    },
    {
      "cell_type": "markdown",
      "source": [
        "we will be analyzing hotel booking data from the given dataset contais booking information for a city hotel and a resort hotel,and include information such as when booking was made , length of stay , the number of people check-in , the number of available parking space.\n",
        "The booking of hotel depends on various factors but above which is shown is key\n",
        "step towards understanding its Business.  "
      ],
      "metadata": {
        "id": "DpeJGUA3kjGy"
      }
    },
    {
      "cell_type": "markdown",
      "source": [
        "#### **Define Your Business Objective?**"
      ],
      "metadata": {
        "id": "PH-0ReGfmX4f"
      }
    },
    {
      "cell_type": "markdown",
      "source": [
        "As a data analyst, the business objective for analyzing a hotel booking dataset can vary depending on the specific context and goals of your organization. However, here are a few possible business objectives you could consider:\n",
        "\n",
        "**Enhance Customer Experience**: Explore the dataset to understand customer preferences, behavior, and satisfaction levels. Identify areas for improvement in service quality, amenities, or booking processes to enhance the overall customer experience and increase customer loyalty.\n",
        "\n",
        "**Optimize Resource Allocation**: Analyze booking patterns and occupancy rates to optimize resource allocation, such as staff scheduling, room allocation, and inventory management. Identify periods of high demand or low occupancy to allocate resources efficiently and minimize costs.\n",
        "\n",
        "**Identify Booking Patterns**: Identify patterns and trends in booking behavior, such as preferred booking channels, booking lead time, or booking cancellation rates. This information can help optimize marketing and advertising efforts and improve targeting strategies.\n",
        "\n",
        "**Mitigate Booking Cancellations**: Analyze factors contributing to booking cancellations, such as customer demographics, booking source, or cancellation policies. Identify potential areas for improvement to minimize booking cancellations and associated revenue losses."
      ],
      "metadata": {
        "id": "PhDvGCAqmjP1"
      }
    },
    {
      "cell_type": "markdown",
      "source": [
        "# **General Guidelines** : -  "
      ],
      "metadata": {
        "id": "mDgbUHAGgjLW"
      }
    },
    {
      "cell_type": "markdown",
      "source": [
        "1.   Well-structured, formatted, and commented code is required.\n",
        "2.   Exception Handling, Production Grade Code & Deployment Ready Code will be a plus. Those students will be awarded some additional credits.\n",
        "     \n",
        "     The additional credits will have advantages over other students during Star Student selection.\n",
        "       \n",
        "             [ Note: - Deployment Ready Code is defined as, the whole .ipynb notebook should be executable in one go\n",
        "                       without a single error logged. ]\n",
        "\n",
        "3.   Each and every logic should have proper comments.\n",
        "4. You may add as many number of charts you want. Make Sure for each and every chart the following format should be answered.\n",
        "        \n",
        "\n",
        "```\n",
        "# Chart visualization code\n",
        "```\n",
        "            \n",
        "\n",
        "*   Why did you pick the specific chart?\n",
        "*   What is/are the insight(s) found from the chart?\n",
        "* Will the gained insights help creating a positive business impact?\n",
        "Are there any insights that lead to negative growth? Justify with specific reason.\n",
        "\n",
        "5. You have to create at least 20 logical & meaningful charts having important insights.\n",
        "\n",
        "\n",
        "[ Hints : - Do the Vizualization in  a structured way while following \"UBM\" Rule.\n",
        "\n",
        "U - Univariate Analysis,\n",
        "\n",
        "B - Bivariate Analysis (Numerical - Categorical, Numerical - Numerical, Categorical - Categorical)\n",
        "\n",
        "M - Multivariate Analysis\n",
        " ]\n",
        "\n",
        "\n",
        "\n"
      ],
      "metadata": {
        "id": "ZrxVaUj-hHfC"
      }
    },
    {
      "cell_type": "markdown",
      "source": [
        "# ***Let's Begin !***"
      ],
      "metadata": {
        "id": "O_i_v8NEhb9l"
      }
    },
    {
      "cell_type": "markdown",
      "source": [
        "## ***1. Know Your Data***"
      ],
      "metadata": {
        "id": "HhfV-JJviCcP"
      }
    },
    {
      "cell_type": "markdown",
      "source": [
        "### Import Libraries"
      ],
      "metadata": {
        "id": "Y3lxredqlCYt"
      }
    },
    {
      "cell_type": "code",
      "source": [
        "# Import Libraries\n",
        "import pandas as pd\n",
        "import numpy as np\n",
        "import matplotlib.pyplot as plt\n",
        "%matplotlib inline\n",
        "from datetime import datetime\n",
        "import seaborn as sns"
      ],
      "metadata": {
        "id": "M8Vqi-pPk-HR"
      },
      "execution_count": null,
      "outputs": []
    },
    {
      "cell_type": "markdown",
      "source": [
        "### Dataset Loading"
      ],
      "metadata": {
        "id": "3RnN4peoiCZX"
      }
    },
    {
      "cell_type": "code",
      "source": [
        "from google.colab import drive\n",
        "\n",
        "# Mount Google Drive\n",
        "drive.mount('/content/drive')\n",
        "\n",
        "# Path to your CSV file in Google Drive\n",
        "csv_path = '/content/drive/MyDrive/path/to/your/Hotel Bookings.csv'\n"
      ],
      "metadata": {
        "id": "veOHJ41J8hkk"
      },
      "execution_count": null,
      "outputs": []
    },
    {
      "cell_type": "markdown",
      "source": [
        "### Dataset First View"
      ],
      "metadata": {
        "id": "x71ZqKXriCWQ"
      }
    },
    {
      "cell_type": "code",
      "source": [
        "# Dataset First Look\n",
        "import pandas as pd\n",
        "df=pd.read_csv('Hotel Bookings.csv')\n",
        "df"
      ],
      "metadata": {
        "id": "LWNFOSvLl09H"
      },
      "execution_count": null,
      "outputs": []
    },
    {
      "cell_type": "markdown",
      "source": [
        "### Dataset Rows & Columns count"
      ],
      "metadata": {
        "id": "7hBIi_osiCS2"
      }
    },
    {
      "cell_type": "code",
      "source": [
        "# Dataset Rows & Columns count\n",
        "num_rows = df.shape[0]\n",
        "num_cols = df.shape[1]\n",
        "\n",
        "print(\"Number of rows:\", num_rows)\n",
        "print(\"Number of columns:\", num_cols)\n"
      ],
      "metadata": {
        "id": "Kllu7SJgmLij"
      },
      "execution_count": null,
      "outputs": []
    },
    {
      "cell_type": "markdown",
      "source": [
        "### Dataset Information"
      ],
      "metadata": {
        "id": "JlHwYmJAmNHm"
      }
    },
    {
      "cell_type": "code",
      "source": [
        "df.head()"
      ],
      "metadata": {
        "id": "c6yr1fnoLhxY"
      },
      "execution_count": null,
      "outputs": []
    },
    {
      "cell_type": "code",
      "source": [
        "df.tail(5)"
      ],
      "metadata": {
        "id": "jrfd3Vc1LkXx"
      },
      "execution_count": null,
      "outputs": []
    },
    {
      "cell_type": "code",
      "source": [
        "# Dataset Info\n",
        "df.info()"
      ],
      "metadata": {
        "id": "e9hRXRi6meOf"
      },
      "execution_count": null,
      "outputs": []
    },
    {
      "cell_type": "markdown",
      "source": [
        "The aim of column wise analysis is to understand the popularity within the years.For that we are creating histogram and barchart to understand it clearly."
      ],
      "metadata": {
        "id": "Ou0aevp13F5s"
      }
    },
    {
      "cell_type": "code",
      "source": [
        "import matplotlib.pyplot as plt\n",
        "import seaborn as sns\n",
        "\n",
        "# Retrieve the variable of interest from the DataFrame\n",
        "variable_data = df['hotel']\n",
        "\n",
        "# Perform descriptive statistics on the variable\n",
        "summary_stats = variable_data.describe()\n",
        "print(summary_stats)\n",
        "\n",
        "# Plot a histogram of the variable\n",
        "plt.figure(figsize=(10, 10))\n",
        "sns.histplot(variable_data, kde=True)\n",
        "plt.title('Types of Hotel')\n",
        "plt.xlabel('Types')\n",
        "plt.ylabel('Count')\n",
        "plt.show()\n"
      ],
      "metadata": {
        "id": "nwVYktT-0ywU"
      },
      "execution_count": null,
      "outputs": []
    },
    {
      "cell_type": "code",
      "source": [
        "import pandas as pd\n",
        "import matplotlib.pyplot as plt\n",
        "\n",
        "# Retrieve the data for the specific column\n",
        "column_data = df['hotel']\n",
        "\n",
        "# Get the unique values and their frequencies\n",
        "value_counts = column_data.value_counts()\n",
        "\n",
        "# Sort the values in descending order\n",
        "value_counts = value_counts.sort_values(ascending=False)\n",
        "\n",
        "# Create the bar chart\n",
        "plt.figure(figsize=(10, 6))\n",
        "plt.bar(value_counts.index, value_counts.values)\n",
        "plt.title('Types of Hotel')\n",
        "plt.xlabel('Types')\n",
        "plt.ylabel('Count')\n",
        "plt.xticks(rotation=90)\n",
        "plt.show()\n"
      ],
      "metadata": {
        "id": "A5zDk70y2Xgi"
      },
      "execution_count": null,
      "outputs": []
    },
    {
      "cell_type": "markdown",
      "source": [
        "\n",
        "**CONCLUSION**\n",
        "from the above we can clearly visualize that city hotel more popular than resort hotel but we can also understand from the graph that resort also has great opportunity in future."
      ],
      "metadata": {
        "id": "ZCGTnF4C1X71"
      }
    },
    {
      "cell_type": "markdown",
      "source": [
        "#### Duplicate Values"
      ],
      "metadata": {
        "id": "35m5QtbWiB9F"
      }
    },
    {
      "cell_type": "code",
      "source": [
        "# Dataset Duplicate Value Count\n",
        "duplicate_count = df.duplicated().sum()\n",
        "print(\"Number of duplicate values:\", duplicate_count)"
      ],
      "metadata": {
        "id": "1sLdpKYkmox0"
      },
      "execution_count": null,
      "outputs": []
    },
    {
      "cell_type": "markdown",
      "source": [
        "Number of duplicate values from dataset are 31994 so we dropped the data."
      ],
      "metadata": {
        "id": "3RMNr2gX4066"
      }
    },
    {
      "cell_type": "code",
      "source": [
        "# Drop duplicate rows from the DataFrame\n",
        "df.drop_duplicates(inplace=True)\n",
        "\n",
        "# Print the updated DataFrame\n",
        "df\n"
      ],
      "metadata": {
        "id": "DQU-AFaG5cmx"
      },
      "execution_count": null,
      "outputs": []
    },
    {
      "cell_type": "markdown",
      "source": [
        "Here we need to add column like 'Total_People'.So that we can clearly understand how many number of people actually checked in."
      ],
      "metadata": {
        "id": "2eg4fUka7hEx"
      }
    },
    {
      "cell_type": "code",
      "source": [
        "# Calculate the 'Total_People' column by summing the values of 'Adults' , 'Children' , 'Babies'\n",
        "df['Total_People'] = df['adults'] + df['children']+df['babies']\n",
        "\n",
        "# Print the updated DataFrame\n",
        "df\n"
      ],
      "metadata": {
        "id": "AIbJ_cGc7fZ_"
      },
      "execution_count": null,
      "outputs": []
    },
    {
      "cell_type": "markdown",
      "source": [
        "#### Missing Values/Null Values"
      ],
      "metadata": {
        "id": "PoPl-ycgm1ru"
      }
    },
    {
      "cell_type": "code",
      "source": [
        "# Missing Values/Null Values Count\n",
        "missing_count = df.isnull().sum().sum()\n",
        "#printing missing value\n",
        "print(\"Number of missing values:\", missing_count)"
      ],
      "metadata": {
        "id": "GgHWkxvamxVg"
      },
      "execution_count": null,
      "outputs": []
    },
    {
      "cell_type": "code",
      "source": [
        "# Visualizing the missing values\n",
        "import pandas as pd\n",
        "import matplotlib.pyplot as plt\n",
        "\n",
        "# Calculate the count of missing values per column\n",
        "missing_values_count = df.isnull().sum()\n",
        "\n",
        "# Create a bar plot\n",
        "plt.bar(missing_values_count.index, missing_values_count.values)\n",
        "\n",
        "# Set plot properties\n",
        "plt.title('Missing Values in Dataset')\n",
        "plt.xlabel('Columns')\n",
        "plt.ylabel('Number of Missing Values')\n",
        "plt.xticks(rotation=90)\n",
        "\n",
        "# Save the graph as an image file\n",
        "plt.savefig('missing_values_graph.png')\n"
      ],
      "metadata": {
        "id": "3q5wnI3om9sJ"
      },
      "execution_count": null,
      "outputs": []
    },
    {
      "cell_type": "code",
      "source": [
        "import matplotlib.pyplot as plt\n",
        "\n",
        "# Calculate the percentage of missing values for each column\n",
        "missing_percentages = df.isnull().mean() * 100\n",
        "\n",
        "# Exclude columns with no missing values\n",
        "missing_percentages = missing_percentages[missing_percentages > 0]\n",
        "\n",
        "# Plot the pie chart\n",
        "plt.pie(missing_percentages, labels=missing_percentages.index, autopct='%1.1f%%')\n",
        "plt.title('Missing Values in Hotel Booking Dataset')\n",
        "plt.show()\n"
      ],
      "metadata": {
        "id": "COeeaP3kNLtY"
      },
      "execution_count": null,
      "outputs": []
    },
    {
      "cell_type": "markdown",
      "source": [
        "**CONCLUSION**\n",
        "\n",
        "We can see from above two graphs that country column has most of missing data and it is of 86.7  %."
      ],
      "metadata": {
        "id": "jZI0hVB8N9pp"
      }
    },
    {
      "cell_type": "markdown",
      "source": [
        "from the above two graphs we can see that almost company column has 86.7 % missing values for that we have to fillna() there."
      ],
      "metadata": {
        "id": "1mfkkkqs6BWY"
      }
    },
    {
      "cell_type": "code",
      "source": [
        "# Fill missing values in a specific column with a desired value\n",
        "df['company'].fillna(value='desired_value', inplace=True)\n",
        "df['agent'].fillna(value='desired_value', inplace=True)\n",
        "df['country'].fillna(value='desired_value', inplace=True)\n",
        "# Print the updated DataFrame\n",
        "df\n"
      ],
      "metadata": {
        "id": "sp0ji-595_sJ"
      },
      "execution_count": null,
      "outputs": []
    },
    {
      "cell_type": "code",
      "source": [
        "missing_count = df.isnull().sum().sum()\n",
        "#printing missing value\n",
        "print(\"Number of missing values:\", missing_count)"
      ],
      "metadata": {
        "id": "3Q_7PYRoILXF"
      },
      "execution_count": null,
      "outputs": []
    },
    {
      "cell_type": "markdown",
      "source": [
        "After applying fillna() we have got only 8 missing value.so we can ignore this."
      ],
      "metadata": {
        "id": "Femvd7bYIWzs"
      }
    },
    {
      "cell_type": "markdown",
      "source": [
        "### What did you know about your dataset?"
      ],
      "metadata": {
        "id": "H0kj-8xxnORC"
      }
    },
    {
      "cell_type": "markdown",
      "source": [
        "The dataset is based on Hotel Booking analysis.The dataset mainly two types of hotels first Resort type and another one is City type. In which the hotel booking is done within a year 2014 to 2017.In this data set we are given lead time,number of parson checked in.\n",
        "After that we apply different data cleaninf operation like fillna before we find missing and duplicate value after doing so we have got no missing value."
      ],
      "metadata": {
        "id": "gfoNAAC-nUe_"
      }
    },
    {
      "cell_type": "markdown",
      "source": [
        "## ***2. Understanding Your Variables***"
      ],
      "metadata": {
        "id": "nA9Y7ga8ng1Z"
      }
    },
    {
      "cell_type": "code",
      "source": [
        "# Dataset Columns\n",
        "columns = df.columns\n",
        "\n",
        "# Print the column names\n",
        "for column in columns:\n",
        "    print(column)\n"
      ],
      "metadata": {
        "id": "j7xfkqrt5Ag5"
      },
      "execution_count": null,
      "outputs": []
    },
    {
      "cell_type": "code",
      "source": [
        "# Dataset Describe\n",
        "df.describe()"
      ],
      "metadata": {
        "id": "DnOaZdaE5Q5t"
      },
      "execution_count": null,
      "outputs": []
    },
    {
      "cell_type": "markdown",
      "source": [
        "### Variables Description"
      ],
      "metadata": {
        "id": "PBTbrJXOngz2"
      }
    },
    {
      "cell_type": "markdown",
      "source": [
        "**Hotel**: The type of hotel (e.g., \"Resort Hotel\" or \"City Hotel\").\n",
        "\n",
        "**is_canceled**: Indicates whether the booking was canceled (1) or not (0).\n",
        "\n",
        "**lead_time**: The number of days between the booking date and the arrival date.\n",
        "\n",
        "**arrival_date_year**: The year of the arrival date.\n",
        "\n",
        "**arrival_date_month**: The month of the arrival date.\n",
        "\n",
        "**arrival_date_week_number**: The week number of the arrival date.\n",
        "\n",
        "**arrival_date_day_of_month**: The day of the month of the arrival date.\n",
        "\n",
        "**stays_in_weekend_nights**: The number of weekend nights (Saturday or Sunday) the guest stayed.\n",
        "\n",
        "**stays_in_week_nights**: The number of weeknights (Monday to Friday) the guest stayed.\n",
        "\n",
        "**adults**: The number of adults included in the booking.\n",
        "\n",
        "**children**: The number of children included in the booking.\n",
        "\n",
        "**babies**: The number of babies included in the booking.\n",
        "\n",
        "**meal**: The type of meal booked (e.g., \"BB\" for Bed & Breakfast, \"HB\" for Half Board, \"FB\" for Full Board, or \"SC\" for No Meal).\n",
        "\n",
        "**country**: The country of origin of the guest.\n",
        "\n",
        "**market_segment**: The market segment designation (e.g., \"Online TA\" for Online Travel Agents, \"Groups\" for group bookings).\n",
        "\n",
        "**distribution_channel**: The distribution channel through which the booking was made (e.g., \"TA\" for Travel Agents, \"Direct\" for direct bookings).\n",
        "\n",
        "**is_repeated_guest**: Indicates whether the guest is a repeated guest (1) or not (0).\n",
        "\n",
        "**previous_cancellations**: The number of previous booking cancellations by the guest.\n",
        "\n",
        "**previous_bookings_not_canceled**: The number of previous bookings not canceled by the guest.\n",
        "\n",
        "**reserved_room_type**: The type of room reserved by the guest.\n",
        "\n",
        "**assigned_room_type**: The type of room assigned to the guest at check-in.\n",
        "\n",
        "**booking_changes**: The number of changes made to the booking.\n",
        "\n",
        "**deposit_type**: The type of deposit made for the booking.\n",
        "\n",
        "**agent**: The ID of the travel agency or booking agent.\n",
        "\n",
        "**company**: The ID of the company or entity that made the booking.\n",
        "\n",
        "**days_in_waiting_list**: The number of days the booking was on the waiting list before it was confirmed.\n",
        "\n",
        "**customer_type**: The type of booking customer (e.g., \"Transient\" for individual guests, \"Contract\" for group bookings, \"Transient-Party\" for transient reservations associated with a group).\n",
        "\n",
        "**adr**: The average daily rate (price) per room.\n",
        "\n",
        "**required_car_parking_spaces**: The number of car parking spaces required by the guest.\n",
        "\n",
        "**reservation_status**: The final status of the booking (e.g., \"Canceled\", \"Check-Out\", \"No-Show\").\n",
        "\n",
        "**reservation_status_date**: The date at which the final status was set."
      ],
      "metadata": {
        "id": "aJV4KIxSnxay"
      }
    },
    {
      "cell_type": "markdown",
      "source": [
        "### Check Unique Values for each variable."
      ],
      "metadata": {
        "id": "u3PMJOP6ngxN"
      }
    },
    {
      "cell_type": "code",
      "source": [
        "# Check Unique Values for each variable.\n",
        "import pandas as pd\n",
        "\n",
        "# Iterate over each column in the DataFrame\n",
        "for column in df.columns:\n",
        "    # Get the unique values for the current column\n",
        "    unique_values = df[column].unique()\n",
        "\n",
        "    # Print the column name and its unique values\n",
        "    print(f\"Unique values for {column}:\")\n",
        "    print(unique_values)\n",
        "    print()\n"
      ],
      "metadata": {
        "id": "zms12Yq5n-jE"
      },
      "execution_count": null,
      "outputs": []
    },
    {
      "cell_type": "markdown",
      "source": [
        "## 3. ***Data Wrangling***"
      ],
      "metadata": {
        "id": "dauF4eBmngu3"
      }
    },
    {
      "cell_type": "markdown",
      "source": [
        "### Data Wrangling Code"
      ],
      "metadata": {
        "id": "bKJF3rekwFvQ"
      }
    },
    {
      "cell_type": "code",
      "source": [
        "# Write your code to make your dataset analysis ready.\n",
        "df.describe()"
      ],
      "metadata": {
        "id": "wk-9a2fpoLcV"
      },
      "execution_count": null,
      "outputs": []
    },
    {
      "cell_type": "markdown",
      "source": [
        "### What all manipulations have you done and insights you found?"
      ],
      "metadata": {
        "id": "MSa1f5Uengrz"
      }
    },
    {
      "cell_type": "markdown",
      "source": [
        "**We have found the missing value previously and we have also found duplicate value before.\n",
        "To handle the missing value we have used fillna() mathod also we have dropped the duplicate value using drop().\n",
        "\n",
        "**We have found that some column is not there so we created a new column name as 'total_people'\n",
        "With help of this column we can see that total number of people checked in within a certain time period and with that visualisation grapph we can easily predict future of hotel industry.\n"
      ],
      "metadata": {
        "id": "LbyXE7I1olp8"
      }
    },
    {
      "cell_type": "markdown",
      "source": [
        "## ***4. Data Vizualization, Storytelling & Experimenting with charts : Understand the relationships between variables***"
      ],
      "metadata": {
        "id": "GF8Ens_Soomf"
      }
    },
    {
      "cell_type": "markdown",
      "source": [
        "#### Chart - 1\n",
        "Relation between Total People and Resevation Date"
      ],
      "metadata": {
        "id": "0wOQAZs5pc--"
      }
    },
    {
      "cell_type": "code",
      "source": [
        "# Chart - 1 visualization code\n",
        "import pandas as pd\n",
        "import matplotlib.pyplot as plt\n",
        "\n",
        "# Convert the 'Reservation_Date' column to datetime format\n",
        "df['reservation_status_date'] = pd.to_datetime(df['reservation_status_date'])\n",
        "\n",
        "# Group the data by reservation date and calculate the sum of the number of people checked in\n",
        "grouped_data = df.groupby('reservation_status_date')['Total_People'].sum()\n",
        "\n",
        "# Create a bar chart to visualize the number of people checked in by reservation date\n",
        "plt.figure(figsize=(16, 10))\n",
        "plt.bar(grouped_data.index, grouped_data.values)\n",
        "plt.title('Number of People Checked In by Reservation Date')\n",
        "plt.xlabel('Reservation Date')\n",
        "plt.ylabel('Number of People')\n",
        "plt.xticks(rotation=65)\n",
        "plt.show()"
      ],
      "metadata": {
        "id": "7v_ESjsspbW7"
      },
      "execution_count": null,
      "outputs": []
    },
    {
      "cell_type": "markdown",
      "source": [
        "##### 1. Why did you pick the specific chart?"
      ],
      "metadata": {
        "id": "K5QZ13OEpz2H"
      }
    },
    {
      "cell_type": "markdown",
      "source": [
        "I have created this chart to understand that what is the future of hotel industry and we can see that each and every year check in is increasing exponentially.  "
      ],
      "metadata": {
        "id": "XESiWehPqBRc"
      }
    },
    {
      "cell_type": "markdown",
      "source": [
        "##### 2. What is/are the insight(s) found from the chart?"
      ],
      "metadata": {
        "id": "lQ7QKXXCp7Bj"
      }
    },
    {
      "cell_type": "markdown",
      "source": [
        "the graph is increasing in nature so we can say that we can predict the future of hotel business."
      ],
      "metadata": {
        "id": "C_j1G7yiqdRP"
      }
    },
    {
      "cell_type": "markdown",
      "source": [
        "##### 3. Will the gained insights help creating a positive business impact?\n",
        "Are there any insights that lead to negative growth? Justify with specific reason."
      ],
      "metadata": {
        "id": "448CDAPjqfQr"
      }
    },
    {
      "cell_type": "markdown",
      "source": [
        "Yes,this graph help a lot to understand the future of hotel weather it is resort or city hotel."
      ],
      "metadata": {
        "id": "3cspy4FjqxJW"
      }
    },
    {
      "cell_type": "markdown",
      "source": [
        "#### Chart - 2\n",
        "customer type catagory distribution"
      ],
      "metadata": {
        "id": "KSlN3yHqYklG"
      }
    },
    {
      "cell_type": "code",
      "source": [
        "# Chart - 2 visualization code\n",
        "import pandas as pd\n",
        "import matplotlib.pyplot as plt\n",
        "\n",
        "# Count the occurrences of each category in the 'Category' column\n",
        "category_counts = df['customer_type'].value_counts()\n",
        "\n",
        "# Create a pie chart to visualize the distribution of categories\n",
        "plt.figure(figsize=(6, 6))\n",
        "plt.pie(category_counts, labels=category_counts.index, autopct='%1.1f%%')\n",
        "plt.title('Category Distribution')\n",
        "plt.show()\n"
      ],
      "metadata": {
        "id": "R4YgtaqtYklH"
      },
      "execution_count": null,
      "outputs": []
    },
    {
      "cell_type": "markdown",
      "source": [
        "##### 1. Why did you pick the specific chart?"
      ],
      "metadata": {
        "id": "t6dVpIINYklI"
      }
    },
    {
      "cell_type": "markdown",
      "source": [
        "To choose this kind of custome catagory distribution chart we can understand what type of customer are comming in hotels."
      ],
      "metadata": {
        "id": "5aaW0BYyYklI"
      }
    },
    {
      "cell_type": "markdown",
      "source": [
        "##### 2. What is/are the insight(s) found from the chart?"
      ],
      "metadata": {
        "id": "ijmpgYnKYklI"
      }
    },
    {
      "cell_type": "markdown",
      "source": [
        "we can see that transient , transient-party, group , contract four different kinds of customer is coming and according to chart shown above Transient has got 82.4 %.\n",
        "And the second most customer is Transient-party (13.4 %)."
      ],
      "metadata": {
        "id": "PSx9atu2YklI"
      }
    },
    {
      "cell_type": "markdown",
      "source": [
        "##### 3. Will the gained insights help creating a positive business impact?\n",
        "Are there any insights that lead to negative growth? Justify with specific reason."
      ],
      "metadata": {
        "id": "-JiQyfWJYklI"
      }
    },
    {
      "cell_type": "markdown",
      "source": [
        "Transient customer is 82.4 % ,we can give them special treatment to increase and intact the customer .\n",
        "second most check_in customer is Transient-party (13.4 %).We must give etra discount and extra benefits while they check_in we can advertise to increse the percentage."
      ],
      "metadata": {
        "id": "BcBbebzrYklV"
      }
    },
    {
      "cell_type": "markdown",
      "source": [
        "#### Chart - 3\n",
        "pie chart for most preffered hotel"
      ],
      "metadata": {
        "id": "EM7whBJCYoAo"
      }
    },
    {
      "cell_type": "code",
      "source": [
        "# Chart - 3 visualization code\n",
        "import pandas as pd\n",
        "import matplotlib.pyplot as plt\n",
        "\n",
        "# Retrieve the data for the specific column\n",
        "column_data = df['hotel']\n",
        "\n",
        "# Get the unique values and their frequencies\n",
        "value_counts = column_data.value_counts()\n",
        "\n",
        "# Sort the values in descending order\n",
        "value_counts = value_counts.sort_values(ascending=False)\n",
        "\n",
        "# Create the bar chart\n",
        "plt.figure(figsize=(10, 6))\n",
        "plt.bar(value_counts.index, value_counts.values)\n",
        "plt.title('Types of Hotel')\n",
        "plt.xlabel('Types')\n",
        "plt.ylabel('Count')\n",
        "plt.xticks(rotation=90)\n",
        "plt.show()"
      ],
      "metadata": {
        "id": "t6GMdE67YoAp"
      },
      "execution_count": null,
      "outputs": []
    },
    {
      "cell_type": "markdown",
      "source": [
        "##### 1. Why did you pick the specific chart?"
      ],
      "metadata": {
        "id": "fge-S5ZAYoAp"
      }
    },
    {
      "cell_type": "markdown",
      "source": [
        "we have choose to create bar graph between city hotel and resort hotel.This is because we can see that city hotel is more than in resort hotels."
      ],
      "metadata": {
        "id": "5dBItgRVYoAp"
      }
    },
    {
      "cell_type": "markdown",
      "source": [
        "##### 2. What is/are the insight(s) found from the chart?"
      ],
      "metadata": {
        "id": "85gYPyotYoAp"
      }
    },
    {
      "cell_type": "markdown",
      "source": [
        "we can see from the graph people opt city hotel in place of resort hotels."
      ],
      "metadata": {
        "id": "4jstXR6OYoAp"
      }
    },
    {
      "cell_type": "markdown",
      "source": [
        "##### 3. Will the gained insights help creating a positive business impact?\n",
        "Are there any insights that lead to negative growth? Justify with specific reason."
      ],
      "metadata": {
        "id": "RoGjAbkUYoAp"
      }
    },
    {
      "cell_type": "markdown",
      "source": [
        "From the graph we can see that city hotel reservation is more than resorty hotel so we can invest more in city hotels."
      ],
      "metadata": {
        "id": "zfJ8IqMcYoAp"
      }
    },
    {
      "cell_type": "markdown",
      "source": [
        "#### Chart - 4\n",
        "cancellation and non cancellation"
      ],
      "metadata": {
        "id": "4Of9eVA-YrdM"
      }
    },
    {
      "cell_type": "code",
      "source": [
        "# Chart - 4 visualization code\n",
        "import pandas as pd\n",
        "import matplotlib.pyplot as plt\n",
        "\n",
        "# Extract the \"is_canceled\" column\n",
        "is_canceled_data = df['is_canceled']\n",
        "\n",
        "# Count the occurrences of each type\n",
        "type_counts = is_canceled_data.value_counts()\n",
        "\n",
        "# Prepare data for the pie chart\n",
        "labels = ['Not Canceled', 'Canceled']\n",
        "sizes = type_counts.values.tolist()\n",
        "\n",
        "# Plotting the pie chart\n",
        "plt.pie(sizes, labels=labels, autopct='%1.1f%%', startangle=90)\n",
        "plt.axis('equal')\n",
        "plt.title('Booking Cancellation Status')\n",
        "plt.show()\n"
      ],
      "metadata": {
        "id": "irlUoxc8YrdO"
      },
      "execution_count": null,
      "outputs": []
    },
    {
      "cell_type": "markdown",
      "source": [
        "##### 1. Why did you pick the specific chart?"
      ],
      "metadata": {
        "id": "iky9q4vBYrdO"
      }
    },
    {
      "cell_type": "markdown",
      "source": [
        "from the chart we can see that people cancelled the booking and people do not cancelled it we can see the behaviour of people who reserve there booking."
      ],
      "metadata": {
        "id": "aJRCwT6DYrdO"
      }
    },
    {
      "cell_type": "markdown",
      "source": [
        "##### 2. What is/are the insight(s) found from the chart?"
      ],
      "metadata": {
        "id": "F6T5p64dYrdO"
      }
    },
    {
      "cell_type": "markdown",
      "source": [
        "almost 72.5% people checked in when they book ticket so we can not say that hotel not running in good condition."
      ],
      "metadata": {
        "id": "Xx8WAJvtYrdO"
      }
    },
    {
      "cell_type": "markdown",
      "source": [
        "##### 3. Will the gained insights help creating a positive business impact?\n",
        "Are there any insights that lead to negative growth? Justify with specific reason."
      ],
      "metadata": {
        "id": "y-Ehk30pYrdP"
      }
    },
    {
      "cell_type": "markdown",
      "source": [
        "yes,we can see from the charty that people who reserved there room they there is almost 63% chance that they will check-in and this beneficial for hotel business."
      ],
      "metadata": {
        "id": "jLNxxz7MYrdP"
      }
    },
    {
      "cell_type": "markdown",
      "source": [
        "#### Chart - 5\n",
        "percentge of repeated guests"
      ],
      "metadata": {
        "id": "bamQiAODYuh1"
      }
    },
    {
      "cell_type": "code",
      "source": [
        "# Chart - 5 visualization code\n",
        "import pandas as pd\n",
        "import matplotlib.pyplot as plt\n",
        "\n",
        "# Count the occurrences of repeated guest\n",
        "repeated_guest_counts = df['is_repeated_guest'].value_counts()\n",
        "\n",
        "# Prepare data for the pie chart\n",
        "labels = ['Not Repeated Guest', 'Repeated Guest']\n",
        "sizes = repeated_guest_counts.values.tolist()\n",
        "\n",
        "# Plotting the pie chart\n",
        "plt.pie(sizes, labels=labels, autopct='%1.1f%%', startangle=90)\n",
        "plt.axis('equal')\n",
        "plt.title('Percentage of Repeated Guests')\n",
        "plt.show()\n",
        "\n"
      ],
      "metadata": {
        "id": "TIJwrbroYuh3"
      },
      "execution_count": null,
      "outputs": []
    },
    {
      "cell_type": "markdown",
      "source": [
        "##### 1. Why did you pick the specific chart?"
      ],
      "metadata": {
        "id": "QHF8YVU7Yuh3"
      }
    },
    {
      "cell_type": "markdown",
      "source": [
        "we have created this to know about number of repeated guest and not repeated guest relationship."
      ],
      "metadata": {
        "id": "dcxuIMRPYuh3"
      }
    },
    {
      "cell_type": "markdown",
      "source": [
        "##### 2. What is/are the insight(s) found from the chart?"
      ],
      "metadata": {
        "id": "GwzvFGzlYuh3"
      }
    },
    {
      "cell_type": "markdown",
      "source": [
        "peolple mostly don't come to that hotel where they checked in before there can be many reason for that for that we need to do further analysis on ground level."
      ],
      "metadata": {
        "id": "uyqkiB8YYuh3"
      }
    },
    {
      "cell_type": "markdown",
      "source": [
        "##### 3. Will the gained insights help creating a positive business impact?\n",
        "Are there any insights that lead to negative growth? Justify with specific reason."
      ],
      "metadata": {
        "id": "qYpmQ266Yuh3"
      }
    },
    {
      "cell_type": "markdown",
      "source": [
        "This analysis is only to understand more about customers who checked out from hotels and to get a deep understanding we need to do further research like cost reduction,more hospitality."
      ],
      "metadata": {
        "id": "_WtzZ_hCYuh4"
      }
    },
    {
      "cell_type": "markdown",
      "source": [
        "#### Chart - 6\n",
        "HOTEL VS COUNTRY"
      ],
      "metadata": {
        "id": "OH-pJp9IphqM"
      }
    },
    {
      "cell_type": "code",
      "source": [
        "# Chart - 6 visualization code\n",
        "import pandas as pd\n",
        "import matplotlib.pyplot as plt\n",
        "\n",
        "# Group data by country and count the number of hotels\n",
        "hotel_counts = df.groupby('country')['hotel'].count()\n",
        "\n",
        "# Sort the hotel counts in descending order\n",
        "sorted_hotel_counts = hotel_counts.sort_values(ascending=False)\n",
        "\n",
        "# Get the top 10 countries and their corresponding hotel counts\n",
        "top_countries = sorted_hotel_counts.head(10)\n",
        "countries = top_countries.index.tolist()\n",
        "counts = top_countries.values.tolist()\n",
        "\n",
        "# Plotting the bar chart\n",
        "plt.bar(countries, counts)\n",
        "plt.xlabel('Country')\n",
        "plt.ylabel('Number of Hotels')\n",
        "plt.title('Number of Hotels per Country')\n",
        "plt.xticks(rotation=45)\n",
        "plt.show()\n"
      ],
      "metadata": {
        "id": "kuRf4wtuphqN"
      },
      "execution_count": null,
      "outputs": []
    },
    {
      "cell_type": "markdown",
      "source": [
        "##### 1. Why did you pick the specific chart?"
      ],
      "metadata": {
        "id": "bbFf2-_FphqN"
      }
    },
    {
      "cell_type": "markdown",
      "source": [
        "We have choose to create this chart for knowledge purpose."
      ],
      "metadata": {
        "id": "loh7H2nzphqN"
      }
    },
    {
      "cell_type": "markdown",
      "source": [
        "##### 2. What is/are the insight(s) found from the chart?"
      ],
      "metadata": {
        "id": "_ouA3fa0phqN"
      }
    },
    {
      "cell_type": "markdown",
      "source": [
        "we can see that Portugal has most number of people checked in eithe Resort or City hotels.after that GBR and so on."
      ],
      "metadata": {
        "id": "VECbqPI7phqN"
      }
    },
    {
      "cell_type": "markdown",
      "source": [
        "##### 3. Will the gained insights help creating a positive business impact?\n",
        "Are there any insights that lead to negative growth? Justify with specific reason."
      ],
      "metadata": {
        "id": "Seke61FWphqN"
      }
    },
    {
      "cell_type": "markdown",
      "source": [
        "This is only knowledge purpose we can not gain any knowledge for the business."
      ],
      "metadata": {
        "id": "DW4_bGpfphqN"
      }
    },
    {
      "cell_type": "markdown",
      "source": [
        "#### Chart - 7\n",
        "Types of meal people opted."
      ],
      "metadata": {
        "id": "PIIx-8_IphqN"
      }
    },
    {
      "cell_type": "code",
      "source": [
        "# Chart - 7 visualization code\n",
        "import pandas as pd\n",
        "import matplotlib.pyplot as plt\n",
        "\n",
        "# Extract the \"meal\" column\n",
        "meal_data = df['meal']\n",
        "\n",
        "# Count the occurrences of each meal type\n",
        "meal_counts = meal_data.value_counts()\n",
        "\n",
        "# Prepare data for the pie chart\n",
        "labels = meal_counts.index.tolist()\n",
        "sizes = meal_counts.values.tolist()\n",
        "\n",
        "# Plotting the pie chart\n",
        "plt.pie(sizes, labels=labels, autopct='%1.1f%%', startangle=60)\n",
        "plt.axis('equal')\n",
        "plt.title('Meal Types Opted')\n",
        "plt.show()\n"
      ],
      "metadata": {
        "id": "lqAIGUfyphqO"
      },
      "execution_count": null,
      "outputs": []
    },
    {
      "cell_type": "markdown",
      "source": [
        "##### 1. Why did you pick the specific chart?"
      ],
      "metadata": {
        "id": "t27r6nlMphqO"
      }
    },
    {
      "cell_type": "markdown",
      "source": [
        "we can differentiate from the pi chart that people opt BB more number of times"
      ],
      "metadata": {
        "id": "iv6ro40sphqO"
      }
    },
    {
      "cell_type": "markdown",
      "source": [
        "##### 2. What is/are the insight(s) found from the chart?"
      ],
      "metadata": {
        "id": "r2jJGEOYphqO"
      }
    },
    {
      "cell_type": "markdown",
      "source": [
        "Almost 77.8 % people get bread and breakfast so we can get some extra profit from BB."
      ],
      "metadata": {
        "id": "Po6ZPi4hphqO"
      }
    },
    {
      "cell_type": "markdown",
      "source": [
        "##### 3. Will the gained insights help creating a positive business impact?\n",
        "Are there any insights that lead to negative growth? Justify with specific reason."
      ],
      "metadata": {
        "id": "b0JNsNcRphqO"
      }
    },
    {
      "cell_type": "markdown",
      "source": [
        "Here we can gain some extra profit from Bread and Breakfast,we can also add some extra item on that time."
      ],
      "metadata": {
        "id": "xvSq8iUTphqO"
      }
    },
    {
      "cell_type": "markdown",
      "source": [
        "#### Chart - 8\n",
        "percentage of repeated guest."
      ],
      "metadata": {
        "id": "BZR9WyysphqO"
      }
    },
    {
      "cell_type": "markdown",
      "source": [
        "##### 1. Why did you pick the specific chart?"
      ],
      "metadata": {
        "id": "jj7wYXLtphqO"
      }
    },
    {
      "cell_type": "markdown",
      "source": [
        "I have chose this to know about repeated guest.With the help of that we can easily gain a knowledge about."
      ],
      "metadata": {
        "id": "Ob8u6rCTphqO"
      }
    },
    {
      "cell_type": "markdown",
      "source": [
        "##### 2. What is/are the insight(s) found from the chart?"
      ],
      "metadata": {
        "id": "eZrbJ2SmphqO"
      }
    },
    {
      "cell_type": "markdown",
      "source": [
        "we can see that from pie chart the guest who ones checked out he/she wont come again to that hotel."
      ],
      "metadata": {
        "id": "mZtgC_hjphqO"
      }
    },
    {
      "cell_type": "markdown",
      "source": [
        "##### 3. Will the gained insights help creating a positive business impact?\n",
        "Are there any insights that lead to negative growth? Justify with specific reason."
      ],
      "metadata": {
        "id": "rFu4xreNphqO"
      }
    },
    {
      "cell_type": "markdown",
      "source": [
        "We must do analysis on this that why we dont get reppeated guest we have to go to ground for further reasons."
      ],
      "metadata": {
        "id": "ey_0qi68phqO"
      }
    },
    {
      "cell_type": "markdown",
      "source": [
        "#### Chart - 9"
      ],
      "metadata": {
        "id": "YJ55k-q6phqO"
      }
    },
    {
      "cell_type": "code",
      "source": [
        "# Chart - 9 visualization code\n",
        "import pandas as pd\n",
        "import matplotlib.pyplot as plt\n",
        "\n",
        "# Count the occurrences of each market segment\n",
        "segment_counts = df['market_segment'].value_counts()\n",
        "\n",
        "# Prepare data for the pie chart\n",
        "labels = segment_counts.index.tolist()\n",
        "sizes = segment_counts.values.tolist()\n",
        "\n",
        "# Plotting the pie chart\n",
        "plt.pie(sizes, labels=labels, autopct='%1.1f%%', startangle=90)\n",
        "plt.axis('equal')\n",
        "plt.title('Market Segments')\n",
        "plt.show()\n"
      ],
      "metadata": {
        "id": "B2aS4O1ophqO"
      },
      "execution_count": null,
      "outputs": []
    },
    {
      "cell_type": "markdown",
      "source": [
        "##### 1. Why did you pick the specific chart?"
      ],
      "metadata": {
        "id": "gCFgpxoyphqP"
      }
    },
    {
      "cell_type": "markdown",
      "source": [
        "We can understand from the market segments the online TA another."
      ],
      "metadata": {
        "id": "TVxDimi2phqP"
      }
    },
    {
      "cell_type": "markdown",
      "source": [
        "##### 2. What is/are the insight(s) found from the chart?"
      ],
      "metadata": {
        "id": "OVtJsKN_phqQ"
      }
    },
    {
      "cell_type": "markdown",
      "source": [
        "\n",
        "\n",
        "```\n",
        "`# This is formatted as code`\n",
        "```\n",
        "\n",
        "online TA is 47.3 %.so we need to focus more on online TA."
      ],
      "metadata": {
        "id": "ngGi97qjphqQ"
      }
    },
    {
      "cell_type": "markdown",
      "source": [
        "##### 3. Will the gained insights help creating a positive business impact?\n",
        "Are there any insights that lead to negative growth? Justify with specific reason."
      ],
      "metadata": {
        "id": "lssrdh5qphqQ"
      }
    },
    {
      "cell_type": "markdown",
      "source": [
        "Its for knowledge purpose we can also get good insight from the data above."
      ],
      "metadata": {
        "id": "tBpY5ekJphqQ"
      }
    },
    {
      "cell_type": "markdown",
      "source": [
        "#### Chart - 10\n",
        "Distribution channel"
      ],
      "metadata": {
        "id": "U2RJ9gkRphqQ"
      }
    },
    {
      "cell_type": "code",
      "source": [
        "# Chart - 10 visualization code\n",
        "import pandas as pd\n",
        "import matplotlib.pyplot as plt\n",
        "\n",
        "# Count the occurrences of each market segment\n",
        "segment_counts = df['distribution_channel'].value_counts()\n",
        "\n",
        "# Prepare data for the pie chart\n",
        "labels = segment_counts.index.tolist()\n",
        "sizes = segment_counts.values.tolist()\n",
        "\n",
        "# Plotting the pie chart\n",
        "plt.pie(sizes, labels=labels, autopct='%1.1f%%', startangle=120)\n",
        "plt.axis('equal')\n",
        "plt.title('distribution_channel')\n",
        "plt.show()\n"
      ],
      "metadata": {
        "id": "GM7a4YP4phqQ"
      },
      "execution_count": null,
      "outputs": []
    },
    {
      "cell_type": "markdown",
      "source": [
        "##### 1. Why did you pick the specific chart?"
      ],
      "metadata": {
        "id": "1M8mcRywphqQ"
      }
    },
    {
      "cell_type": "markdown",
      "source": [
        "The above graph based on distribution channel and we can rank it easily."
      ],
      "metadata": {
        "id": "8agQvks0phqQ"
      }
    },
    {
      "cell_type": "markdown",
      "source": [
        "##### 2. What is/are the insight(s) found from the chart?"
      ],
      "metadata": {
        "id": "tgIPom80phqQ"
      }
    },
    {
      "cell_type": "markdown",
      "source": [
        "with the insight from the data we can see that TA/TO 82 % distribution happens."
      ],
      "metadata": {
        "id": "Qp13pnNzphqQ"
      }
    },
    {
      "cell_type": "markdown",
      "source": [
        "##### 3. Will the gained insights help creating a positive business impact?\n",
        "Are there any insights that lead to negative growth? Justify with specific reason."
      ],
      "metadata": {
        "id": "JMzcOPDDphqR"
      }
    },
    {
      "cell_type": "markdown",
      "source": [
        "From the above chart we can get the knowledge of various distribution channels of hotels either in city hotel or in resort hotels."
      ],
      "metadata": {
        "id": "R4Ka1PC2phqR"
      }
    },
    {
      "cell_type": "markdown",
      "source": [
        "#### Chart - 11\n",
        "reserved room type"
      ],
      "metadata": {
        "id": "x-EpHcCOp1ci"
      }
    },
    {
      "cell_type": "code",
      "source": [
        "# Chart - 11 visualization code\n",
        "import pandas as pd\n",
        "import matplotlib.pyplot as plt\n",
        "\n",
        "# Count the occurrences of each room type\n",
        "room_counts = df['reserved_room_type'].value_counts()\n",
        "\n",
        "# Prepare data for the pie chart\n",
        "labels = room_counts.index.tolist()\n",
        "sizes = room_counts.values.tolist()\n",
        "\n",
        "# Plotting the pie chart\n",
        "plt.pie(sizes, labels=labels, autopct='%1.1f%%', startangle=90)\n",
        "plt.axis('equal')\n",
        "plt.title('Types of Rooms')\n",
        "plt.show()\n",
        "\n"
      ],
      "metadata": {
        "id": "mAQTIvtqp1cj"
      },
      "execution_count": null,
      "outputs": []
    },
    {
      "cell_type": "markdown",
      "source": [
        "##### 1. Why did you pick the specific chart?"
      ],
      "metadata": {
        "id": "X_VqEhTip1ck"
      }
    },
    {
      "cell_type": "markdown",
      "source": [
        "This chart to understand the type of room they provide in Hotels."
      ],
      "metadata": {
        "id": "-vsMzt_np1ck"
      }
    },
    {
      "cell_type": "markdown",
      "source": [
        "##### 2. What is/are the insight(s) found from the chart?"
      ],
      "metadata": {
        "id": "8zGJKyg5p1ck"
      }
    },
    {
      "cell_type": "markdown",
      "source": [
        "people mostly opt type A (72 %)room and than type D (16.1 %) room."
      ],
      "metadata": {
        "id": "ZYdMsrqVp1ck"
      }
    },
    {
      "cell_type": "markdown",
      "source": [
        "##### 3. Will the gained insights help creating a positive business impact?\n",
        "Are there any insights that lead to negative growth? Justify with specific reason."
      ],
      "metadata": {
        "id": "PVzmfK_Ep1ck"
      }
    },
    {
      "cell_type": "markdown",
      "source": [
        "this is just to know about rooms and types of room assigned by the hotel we can also say that people choose mostly \"A\" type room."
      ],
      "metadata": {
        "id": "druuKYZpp1ck"
      }
    },
    {
      "cell_type": "markdown",
      "source": [
        "#### Chart - 12\n",
        "assigned_room_type"
      ],
      "metadata": {
        "id": "n3dbpmDWp1ck"
      }
    },
    {
      "cell_type": "code",
      "source": [
        "# Chart - 12 visualization code\n",
        "import pandas as pd\n",
        "import matplotlib.pyplot as plt\n",
        "\n",
        "# Count the occurrences of assigned room types\n",
        "assigned_room_counts = df['assigned_room_type'].value_counts()\n",
        "\n",
        "# Prepare data for the pie chart\n",
        "labels = assigned_room_counts.index.tolist()\n",
        "sizes = assigned_room_counts.values.tolist()\n",
        "\n",
        "# Plotting the pie chart\n",
        "plt.pie(sizes, labels=None, autopct='%1.1f%%', startangle=90)\n",
        "\n",
        "# Add data labels outside the pie chart\n",
        "plt.legend(labels, loc='center left', bbox_to_anchor=(1, 0.5))\n",
        "plt.gca().set_aspect('equal')\n",
        "plt.title('Assigned Room Types')\n",
        "\n",
        "plt.show()\n",
        "\n"
      ],
      "metadata": {
        "id": "bwevp1tKp1ck"
      },
      "execution_count": null,
      "outputs": []
    },
    {
      "cell_type": "markdown",
      "source": [
        "##### 1. Why did you pick the specific chart?"
      ],
      "metadata": {
        "id": "ylSl6qgtp1ck"
      }
    },
    {
      "cell_type": "markdown",
      "source": [
        "This is for understanding room assigned by the hotel is type A and Type D."
      ],
      "metadata": {
        "id": "m2xqNkiQp1ck"
      }
    },
    {
      "cell_type": "markdown",
      "source": [
        "##### 2. What is/are the insight(s) found from the chart?"
      ],
      "metadata": {
        "id": "ZWILFDl5p1ck"
      }
    },
    {
      "cell_type": "markdown",
      "source": [
        "There are different kinds of hotel room in either city or resort type hotels.People mostly offered type A room they take it."
      ],
      "metadata": {
        "id": "x-lUsV2mp1ck"
      }
    },
    {
      "cell_type": "markdown",
      "source": [
        "##### 3. Will the gained insights help creating a positive business impact?\n",
        "Are there any insights that lead to negative growth? Justify with specific reason."
      ],
      "metadata": {
        "id": "M7G43BXep1ck"
      }
    },
    {
      "cell_type": "markdown",
      "source": [
        "This data just for understanding that what are the types of hotel room in hotel and resort.We can also see from the graph that people will get most of the room called type A which is profitable for hotels.\n",
        "To increase the percentage a hotel should give some extra benifit and discount in charges."
      ],
      "metadata": {
        "id": "5wwDJXsLp1cl"
      }
    },
    {
      "cell_type": "markdown",
      "source": [
        "#### Chart - 13\n",
        "Car Parking Space"
      ],
      "metadata": {
        "id": "Ag9LCva-p1cl"
      }
    },
    {
      "cell_type": "code",
      "source": [
        "# Chart - 13 visualization code\n",
        "import pandas as pd\n",
        "import matplotlib.pyplot as plt\n",
        "\n",
        "# Group data by hotel/resort type and calculate the count of car parking spaces\n",
        "car_parking_counts = df.groupby('hotel')['required_car_parking_spaces'].sum()\n",
        "\n",
        "# Extract hotel and resort counts\n",
        "hotel_counts = car_parking_counts.loc['City Hotel']\n",
        "resort_counts = car_parking_counts.loc['Resort Hotel']\n",
        "\n",
        "# Prepare data for the bar graph\n",
        "labels = ['City Hotel', 'Resort']\n",
        "counts = [hotel_counts, resort_counts]\n",
        "\n",
        "# Plotting the bar graph\n",
        "plt.bar(labels, counts)\n",
        "plt.xlabel('City Hotel/Resort')\n",
        "plt.ylabel('Count of Car Parking Spaces')\n",
        "plt.title('Car Parking Spaces in Hotels vs Resorts')\n",
        "plt.show()\n",
        "\n"
      ],
      "metadata": {
        "id": "EUfxeq9-p1cl"
      },
      "execution_count": null,
      "outputs": []
    },
    {
      "cell_type": "markdown",
      "source": [
        "##### 1. Why did you pick the specific chart?"
      ],
      "metadata": {
        "id": "E6MkPsBcp1cl"
      }
    },
    {
      "cell_type": "markdown",
      "source": [
        "This graph is made for the proper understanding of number of parking space in city hotel and Resort."
      ],
      "metadata": {
        "id": "V22bRsFWp1cl"
      }
    },
    {
      "cell_type": "markdown",
      "source": [
        "##### 2. What is/are the insight(s) found from the chart?"
      ],
      "metadata": {
        "id": "2cELzS2fp1cl"
      }
    },
    {
      "cell_type": "markdown",
      "source": [
        "From the above graph we can see that there is lesser parking space in city hotels because of the data.So we can understand mostly more economic people try to opt city hotel or travellers from the other city or county opt city hotel as they don't have any car and bikes to travel.  "
      ],
      "metadata": {
        "id": "ozQPc2_Ip1cl"
      }
    },
    {
      "cell_type": "markdown",
      "source": [
        "##### 3. Will the gained insights help creating a positive business impact?\n",
        "Are there any insights that lead to negative growth? Justify with specific reason."
      ],
      "metadata": {
        "id": "3MPXvC8up1cl"
      }
    },
    {
      "cell_type": "markdown",
      "source": [
        "we can see from the graph that a city hotel which has a parking space they usually get more number of people so hotel should think about its parking space or they can opt for underground parking space."
      ],
      "metadata": {
        "id": "GL8l1tdLp1cl"
      }
    },
    {
      "cell_type": "markdown",
      "source": [
        "#### Chart - 14 - Correlation Heatmap"
      ],
      "metadata": {
        "id": "NC_X3p0fY2L0"
      }
    },
    {
      "cell_type": "code",
      "source": [
        "# Correlation Heatmap visualization code\n",
        "import pandas as pd\n",
        "import seaborn as sns\n",
        "import matplotlib.pyplot as plt\n",
        "\n",
        "# Select the relevant columns for the heatmap\n",
        "heatmap_data = df[['assigned_room_type', 'reserved_room_type']]\n",
        "\n",
        "# Convert categorical columns to numeric codes\n",
        "heatmap_data['assigned_room_type'] = pd.Categorical(heatmap_data['assigned_room_type']).codes\n",
        "heatmap_data['reserved_room_type'] = pd.Categorical(heatmap_data['reserved_room_type']).codes\n",
        "\n",
        "# Compute the correlation matrix\n",
        "correlation_matrix = heatmap_data.corr().fillna(0)\n",
        "\n",
        "# Plot the heatmap\n",
        "plt.figure(figsize=(8, 6))\n",
        "sns.heatmap(correlation_matrix, annot=True, cmap='coolwarm')\n",
        "plt.title('Correlation Heatmap')\n",
        "plt.xticks(ticks=[0.5, 1.5], labels=['assigned_room_type', 'reserved_room_type'])\n",
        "plt.yticks(ticks=[0.5, 1.5], labels=['assigned_room_type', 'reserved_room_type'])\n",
        "plt.show()\n"
      ],
      "metadata": {
        "id": "xyC9zolEZNRQ"
      },
      "execution_count": null,
      "outputs": []
    },
    {
      "cell_type": "markdown",
      "source": [
        "##### 1. Why did you pick the specific chart?"
      ],
      "metadata": {
        "id": "UV0SzAkaZNRQ"
      }
    },
    {
      "cell_type": "markdown",
      "source": [
        " adding the 'hotel' and 'reserved_room_type' columns to the heatmap allows us to explore the correlation between these categorical variables and gain insights into the relationship between different hotels and their reserved room types in the dataset."
      ],
      "metadata": {
        "id": "DVPuT8LYZNRQ"
      }
    },
    {
      "cell_type": "markdown",
      "source": [
        "##### 2. What is/are the insight(s) found from the chart?"
      ],
      "metadata": {
        "id": "YPEH6qLeZNRQ"
      }
    },
    {
      "cell_type": "markdown",
      "source": [
        "The heatmap helps us to determine whether variables have positive or negative correlations. Positive correlations are indicated by colors moving from lighter to darker shades, while negative correlations are represented by colors moving from darker to lighter shades or by different colors. This insight can be valuable for understanding how variables relate to each other and whether they tend to increase or decrease together.\n",
        "from here we can understand the relationship between reserved room type and assigned room type."
      ],
      "metadata": {
        "id": "bfSqtnDqZNRR"
      }
    },
    {
      "cell_type": "markdown",
      "source": [
        "#### Chart - 15 - Pair Plot"
      ],
      "metadata": {
        "id": "q29F0dvdveiT"
      }
    },
    {
      "cell_type": "code",
      "source": [
        "# Pair Plot visualization code\n",
        "import pandas as pd\n",
        "import seaborn as sns\n",
        "import matplotlib.pyplot as plt\n",
        "\n",
        "# Select the columns for the pair plot\n",
        "columns = ['is_canceled', 'lead_time', 'previous_cancellations', 'previous_bookings_not_canceled', 'booking_changes', 'days_in_waiting_list', 'required_car_parking_spaces']\n",
        "\n",
        "# Create the pair plot\n",
        "sns.pairplot(df[columns])\n",
        "\n",
        "# Display the plot\n",
        "plt.show()\n",
        "\n"
      ],
      "metadata": {
        "id": "o58-TEIhveiU"
      },
      "execution_count": null,
      "outputs": []
    },
    {
      "cell_type": "markdown",
      "source": [
        "##### 1. Why did you pick the specific chart?"
      ],
      "metadata": {
        "id": "EXh0U9oCveiU"
      }
    },
    {
      "cell_type": "markdown",
      "source": [
        "Pair plots are useful for visualizing the pairwise relationships between multiple variables in a dataset."
      ],
      "metadata": {
        "id": "eMmPjTByveiU"
      }
    },
    {
      "cell_type": "markdown",
      "source": [
        "##### 2. What is/are the insight(s) found from the chart?"
      ],
      "metadata": {
        "id": "22aHeOlLveiV"
      }
    },
    {
      "cell_type": "markdown",
      "source": [
        "we have found that relation between booking lead time and previous booking not cancel and booking changed we can observe from the graph."
      ],
      "metadata": {
        "id": "uPQ8RGwHveiV"
      }
    },
    {
      "cell_type": "markdown",
      "source": [
        "## **5. Solution to Business Objective**"
      ],
      "metadata": {
        "id": "JcMwzZxoAimU"
      }
    },
    {
      "cell_type": "markdown",
      "source": [
        "#### What do you suggest the client to achieve Business Objective ?\n",
        "Explain Briefly."
      ],
      "metadata": {
        "id": "8G2x9gOozGDZ"
      }
    },
    {
      "cell_type": "markdown",
      "source": [
        "To achive the business objective client must think about there cost reduction and more investment in parking space and other things which explaied above."
      ],
      "metadata": {
        "id": "pASKb0qOza21"
      }
    },
    {
      "cell_type": "markdown",
      "source": [
        "# **Conclusion**"
      ],
      "metadata": {
        "id": "gCX9965dhzqZ"
      }
    },
    {
      "cell_type": "markdown",
      "source": [
        "Around 60% bookings are for City hotel and 40% bookings are for Resort hotel, therefore City Hotel is busier than Resort hotel.\n",
        "\n",
        "Both hotels have significantly higher booking cancellation rates and very few guests less than 3 % return for another booking in City hotel. 5% guests return for stay in Resort hotel.\n",
        "Most of the guests came from european countries, with most of guests coming from Portugal.\n",
        "Guests use different channels for making bookings out of which most preferred way is TA/TO.\n",
        "Almost 30% of bookings via TA/TO are cancelled.\n",
        "Not getting same room as reserved, longer lead time and waiting time do not affect cancellation of bookings. Although different room allotment do lowers the adr.\n",
        "Within a month, adr gradually increases as month ends, with small sudden rise on weekends.\n",
        "More number of people in guests results in more number of special requests.\n",
        "Bookings made via complementary market segment and adults have on average high no. of special request.\n",
        "\n",
        "And many more conclusions."
      ],
      "metadata": {
        "id": "Fjb1IsQkh3yE"
      }
    },
    {
      "cell_type": "markdown",
      "source": [
        "### ***Hurrah! You have successfully completed your EDA Capstone Project !!!***"
      ],
      "metadata": {
        "id": "gIfDvo9L0UH2"
      }
    }
  ]
}